{
 "cells": [
  {
   "cell_type": "markdown",
   "id": "ff77bea3-12e2-427d-a65c-11ca1238c6c0",
   "metadata": {},
   "source": [
    "# Common Task 2: Training and Evaluation of Transformer Model  \n",
    "\n",
    "This notebook contains the solution for **Common Task 2**.  \n",
    "\n",
    "## Training  \n",
    "Refer to the bash scripts in the `runs/` directory.  \n",
    "- Execute the corresponding `.sh` file to start training.  \n",
    "- The default configuration is set for a **2-GPU system**.  \n",
    "- Modify the parameters as needed based on your hardware.  \n",
    "\n",
    "## Evaluation  \n",
    "Follow the provided code in this notebook for testing.  "
   ]
  },
  {
   "cell_type": "code",
   "execution_count": null,
   "id": "2f51fcb4-b3de-4287-989f-7dabd9f18bd7",
   "metadata": {},
   "outputs": [],
   "source": [
    "from trainer import sequence_accuracy\n",
    "from data import Data\n",
    "import pandas as pd\n",
    "import numpy as np\n",
    "import os\n",
    "import torch\n",
    "from config import TransformerTestConfig\n",
    "from tokenizer import Tokenizer\n",
    "from fn_utils import get_model"
   ]
  },
  {
   "cell_type": "code",
   "execution_count": null,
   "id": "85896134-593b-4f92-b6ba-f4de682fdf01",
   "metadata": {},
   "outputs": [],
   "source": [
    "# Special tokens & coressponding ids\n",
    "BOS_IDX, PAD_IDX, EOS_IDX, UNK_IDX, SEP_IDX = 0, 1, 2, 3, 4\n",
    "special_symbols = ['<S>', '<PAD>', '</S>', '<UNK>', '<SEP>']"
   ]
  },
  {
   "cell_type": "code",
   "execution_count": null,
   "id": "9134eeed-7d00-4952-b454-5e19d5d0d266",
   "metadata": {},
   "outputs": [],
   "source": [
    "config = TransformerTestConfig(\n",
    "    model_name=\"transformer\",\n",
    "    root_dir=\"dummy_root\",\n",
    "    data_dir=\"dummy_data\",\n",
    "    device='cuda',\n",
    "    embedding_size=512,\n",
    "    nhead=8,\n",
    "    num_encoder_layers=3,\n",
    "    num_decoder_layers=3,\n",
    "    dropout=0.1,\n",
    "    hidden_dim=8192,\n",
    "    src_max_len=280,\n",
    "    tgt_max_len=323,\n",
    "    src_voc_size=None,\n",
    "    tgt_voc_size=None,\n",
    "    seed=42,\n",
    "    to_replace=False,\n",
    "    index_pool_size=200,\n",
    "    momentum_pool_size=200,\n",
    "    is_prefix=False\n",
    ")"
   ]
  },
  {
   "cell_type": "code",
   "execution_count": null,
   "id": "c6833360-e75f-4e5f-aeb1-e7065aa17fb6",
   "metadata": {},
   "outputs": [],
   "source": [
    "df_train = pd.read_csv(config.data_dir+\"train.csv\")\n",
    "df_test = pd.read_csv(config.data_dir+\"test.csv\")\n",
    "df_valid = pd.read_csv(config.data_dir+\"valid.csv\")\n",
    "\n",
    "df = pd.concat([df_train,df_valid,df_test]).reset_index(drop=True)"
   ]
  },
  {
   "cell_type": "code",
   "execution_count": null,
   "id": "102dfb6e-96e9-4fe3-8439-ba8ada8e48c5",
   "metadata": {},
   "outputs": [],
   "source": [
    "tokenizer = Tokenizer(df, config.index_pool_size,config.momentum_pool_size, special_symbols, UNK_IDX,config.to_replace)\n",
    "src_vocab = tokenizer.build_src_vocab(config.seed)\n",
    "src_itos = {value: key for key, value in src_vocab.get_stoi().items()}\n",
    "tgt_vocab = tokenizer.build_tgt_vocab()\n",
    "tgt_itos = {value: key for key, value in tgt_vocab.get_stoi().items()}"
   ]
  },
  {
   "cell_type": "code",
   "execution_count": null,
   "id": "d5c1f9e5-7bc7-4a2a-a79e-ad6f1428d618",
   "metadata": {},
   "outputs": [],
   "source": [
    "config.src_voc_size = len(src_vocab)\n",
    "config.tgt_voc_size = len(tgt_vocab)"
   ]
  },
  {
   "cell_type": "code",
   "execution_count": null,
   "id": "164c982f-34d9-4d0c-9ad5-1418e557f8b3",
   "metadata": {},
   "outputs": [],
   "source": [
    "model = get_model(config)"
   ]
  },
  {
   "cell_type": "code",
   "execution_count": null,
   "id": "77f167d4-0632-4749-b14f-4ea68b28e0b3",
   "metadata": {},
   "outputs": [],
   "source": [
    "datasets = Data.get_data(\n",
    "            df_train, df_test, df_valid, config, tokenizer,src_vocab, tgt_vocab)\n",
    "\n",
    "test_ds = datasets['test']"
   ]
  },
  {
   "cell_type": "code",
   "execution_count": null,
   "id": "ad6fa91c-b6ad-4c9b-b6eb-526e2c771e63",
   "metadata": {},
   "outputs": [],
   "source": [
    "preds = sequence_accuracy(config,test_ds,tgt_itos,test_size=len(test_ds))"
   ]
  },
  {
   "cell_type": "code",
   "execution_count": null,
   "id": "c315dea8-0de3-4c2f-a512-d827d50e5676",
   "metadata": {},
   "outputs": [],
   "source": []
  }
 ],
 "metadata": {
  "kernelspec": {
   "display_name": "Python 3 (ipykernel)",
   "language": "python",
   "name": "python3"
  },
  "language_info": {
   "codemirror_mode": {
    "name": "ipython",
    "version": 3
   },
   "file_extension": ".py",
   "mimetype": "text/x-python",
   "name": "python",
   "nbconvert_exporter": "python",
   "pygments_lexer": "ipython3",
   "version": "3.13.2"
  }
 },
 "nbformat": 4,
 "nbformat_minor": 5
}
