{
 "cells": [
  {
   "cell_type": "code",
   "execution_count": 4,
   "id": "2f51fcb4-b3de-4287-989f-7dabd9f18bd7",
   "metadata": {},
   "outputs": [],
   "source": [
    "from trainer import sequence_accuracy\n",
    "from data import Data\n",
    "import pandas as pd\n",
    "import numpy as np\n",
    "import os\n",
    "import torch\n",
    "from config import SkanformerTestConfig\n",
    "from tokenizer import Tokenizer\n",
    "from fn_utils import get_model"
   ]
  },
  {
   "cell_type": "code",
   "execution_count": 5,
   "id": "85896134-593b-4f92-b6ba-f4de682fdf01",
   "metadata": {},
   "outputs": [],
   "source": [
    "# Special tokens & coressponding ids\n",
    "BOS_IDX, PAD_IDX, EOS_IDX, UNK_IDX, SEP_IDX = 0, 1, 2, 3, 4\n",
    "special_symbols = ['<S>', '<PAD>', '</S>', '<UNK>', '<SEP>']"
   ]
  },
  {
   "cell_type": "code",
   "execution_count": 13,
   "id": "9134eeed-7d00-4952-b454-5e19d5d0d266",
   "metadata": {},
   "outputs": [],
   "source": [
    "config = SkanformerTestConfig(\n",
    "    model_name=\"skanformer_64x2\",\n",
    "    root_dir=\"/pscratch/sd/r/ritesh11/SYMBA_test/Skanformer\",\n",
    "    data_dir=\"/pscratch/sd/r/ritesh11/SYMBA_test/SYMBA_test\",\n",
    "    device='cuda',\n",
    "    embedding_size=512,\n",
    "    nhead=8,\n",
    "    num_layers=3,\n",
    "    ff_dims=[4096],\n",
    "    dropout=0.1,\n",
    "    d_ff=4096,\n",
    "    src_max_len=280,\n",
    "    tgt_max_len=323,\n",
    "    src_voc_size=None,\n",
    "    tgt_voc_size=None,\n",
    "    seed=42,\n",
    "    to_replace=False,\n",
    "    index_pool_size=200,\n",
    "    momentum_pool_size=200,\n",
    "    is_prefix=False\n",
    ")"
   ]
  },
  {
   "cell_type": "code",
   "execution_count": 14,
   "id": "c6833360-e75f-4e5f-aeb1-e7065aa17fb6",
   "metadata": {},
   "outputs": [],
   "source": [
    "df_train = pd.read_csv(config.data_dir+\"train.csv\")\n",
    "df_test = pd.read_csv(config.data_dir+\"test.csv\")\n",
    "df_valid = pd.read_csv(config.data_dir+\"valid.csv\")\n",
    "\n",
    "df = pd.concat([df_train,df_valid,df_test]).reset_index(drop=True)"
   ]
  },
  {
   "cell_type": "code",
   "execution_count": 15,
   "id": "102dfb6e-96e9-4fe3-8439-ba8ada8e48c5",
   "metadata": {},
   "outputs": [
    {
     "name": "stderr",
     "output_type": "stream",
     "text": [
      "Processing source vocab: 100%|██████████| 15552/15552 [00:00<00:00, 19815.61it/s]\n",
      "Processing target vocab: 100%|██████████| 15552/15552 [00:01<00:00, 14384.89it/s]\n"
     ]
    }
   ],
   "source": [
    "tokenizer = Tokenizer(df, config.index_pool_size,config.momentum_pool_size, special_symbols, UNK_IDX,config.to_replace)\n",
    "src_vocab = tokenizer.build_src_vocab(config.seed)\n",
    "src_itos = {value: key for key, value in src_vocab.get_stoi().items()}\n",
    "tgt_vocab = tokenizer.build_tgt_vocab()\n",
    "tgt_itos = {value: key for key, value in tgt_vocab.get_stoi().items()}"
   ]
  },
  {
   "cell_type": "code",
   "execution_count": 16,
   "id": "d5c1f9e5-7bc7-4a2a-a79e-ad6f1428d618",
   "metadata": {},
   "outputs": [],
   "source": [
    "config.src_voc_size = len(src_vocab)\n",
    "config.tgt_voc_size = len(tgt_vocab)"
   ]
  },
  {
   "cell_type": "code",
   "execution_count": 17,
   "id": "164c982f-34d9-4d0c-9ad5-1418e557f8b3",
   "metadata": {},
   "outputs": [],
   "source": [
    "model = get_model(config)"
   ]
  },
  {
   "cell_type": "code",
   "execution_count": 18,
   "id": "77f167d4-0632-4749-b14f-4ea68b28e0b3",
   "metadata": {},
   "outputs": [],
   "source": [
    "datasets = Data.get_data(\n",
    "            df_train, df_test, df_valid, config, tokenizer,src_vocab, tgt_vocab)\n",
    "\n",
    "test_ds = datasets['test']"
   ]
  },
  {
   "cell_type": "code",
   "execution_count": 19,
   "id": "ad6fa91c-b6ad-4c9b-b6eb-526e2c771e63",
   "metadata": {},
   "outputs": [
    {
     "name": "stdout",
     "output_type": "stream",
     "text": [
      "Using epoch 19 model for predictions.\n"
     ]
    },
    {
     "name": "stderr",
     "output_type": "stream",
     "text": [
      "Seq_Acc_Cal: 100%|██████████| 1555/1555 [14:29<00:00,  1.79it/s, seq_accuracy=0.894]\n"
     ]
    }
   ],
   "source": [
    "preds = sequence_accuracy(config,test_ds,tgt_itos,test_size=len(test_ds))"
   ]
  },
  {
   "cell_type": "code",
   "execution_count": null,
   "id": "c315dea8-0de3-4c2f-a512-d827d50e5676",
   "metadata": {},
   "outputs": [],
   "source": []
  }
 ],
 "metadata": {
  "kernelspec": {
   "display_name": "pytorch-2.3.1",
   "language": "python",
   "name": "pytorch-2.3.1"
  },
  "language_info": {
   "codemirror_mode": {
    "name": "ipython",
    "version": 3
   },
   "file_extension": ".py",
   "mimetype": "text/x-python",
   "name": "python",
   "nbconvert_exporter": "python",
   "pygments_lexer": "ipython3",
   "version": "3.11.9"
  }
 },
 "nbformat": 4,
 "nbformat_minor": 5
}
